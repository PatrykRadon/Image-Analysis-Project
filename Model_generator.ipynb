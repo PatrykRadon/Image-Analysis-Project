{
 "cells": [
  {
   "cell_type": "code",
   "execution_count": 3,
   "metadata": {},
   "outputs": [],
   "source": [
    "from tensorflow.keras.models import Sequential\n",
    "from tensorflow.keras.layers import Dense, Conv2D, Flatten, Dropout, MaxPool2D\n",
    "from tensorflow.keras.preprocessing.image import ImageDataGenerator\n",
    "import tensorflow as tf\n",
    "import os\n",
    "import numpy as np\n",
    "import matplotlib.pyplot as plt"
   ]
  },
  {
   "cell_type": "code",
   "execution_count": 4,
   "metadata": {},
   "outputs": [],
   "source": [
    "import IPython.display as display\n",
    "from PIL import Image\n",
    "import os\n",
    "import pathlib"
   ]
  },
  {
   "cell_type": "code",
   "execution_count": 5,
   "metadata": {},
   "outputs": [],
   "source": [
    "import scipy as sp"
   ]
  },
  {
   "cell_type": "code",
   "execution_count": 6,
   "metadata": {},
   "outputs": [],
   "source": [
    "\n",
    "test_datagen = ImageDataGenerator(rescale=1./255,\n",
    "                                  rotation_range=45,\n",
    "                                  width_shift_range=.15,\n",
    "                                  height_shift_range=.15,\n",
    "                                  horizontal_flip=True,\n",
    "                                  zoom_range=0.5\n",
    "                                  )\n",
    "\n",
    "train_datagen = ImageDataGenerator(rescale=1./255)\n",
    "\n",
    "IMG_WIDTH,IMG_HEIGHT = (128,128)\n",
    "batch_size = 32"
   ]
  },
  {
   "cell_type": "code",
   "execution_count": 7,
   "metadata": {},
   "outputs": [
    {
     "name": "stdout",
     "output_type": "stream",
     "text": [
      "Found 14181 images belonging to 10 classes.\n"
     ]
    }
   ],
   "source": [
    "train_generator = train_datagen.flow_from_directory(directory='./data/animals10/train', classes=['dog','cat','elephant','sheep','spider','sqirle','cow','chicken','horse','butterfly'], batch_size=batch_size, target_size=(IMG_WIDTH,IMG_HEIGHT))"
   ]
  },
  {
   "cell_type": "code",
   "execution_count": 8,
   "metadata": {},
   "outputs": [
    {
     "name": "stdout",
     "output_type": "stream",
     "text": [
      "Found 4564 images belonging to 10 classes.\n"
     ]
    }
   ],
   "source": [
    "test_generator = train_datagen.flow_from_directory(directory='./data/animals10/valid', classes=['dog','cat','elephant','sheep','spider','sqirle','cow','chicken','horse','butterfly'], batch_size=batch_size, target_size=(IMG_WIDTH,IMG_HEIGHT))"
   ]
  },
  {
   "cell_type": "code",
   "execution_count": 10,
   "metadata": {},
   "outputs": [],
   "source": [
    "from tensorflow.keras import regularizers"
   ]
  },
  {
   "cell_type": "code",
   "execution_count": 37,
   "metadata": {},
   "outputs": [],
   "source": [
    "model = Sequential(\n",
    "    [Conv2D(50, 3, padding='same', activation='relu', input_shape=(IMG_WIDTH,IMG_HEIGHT,3)),\n",
    "     MaxPool2D(),\n",
    "     Dropout(0.2),\n",
    "     Conv2D(32, 3, padding='same', activation='relu'),\n",
    "     MaxPool2D(),\n",
    "     Dropout(0.2),\n",
    "     Conv2D(32, 3, padding='same', activation='relu'),\n",
    "     MaxPool2D(),\n",
    "     Dropout(0.2),\n",
    "     Conv2D(16, 3, padding='same', activation='relu'),\n",
    "     MaxPool2D(),\n",
    "     Dropout(0.2),\n",
    "     Flatten(),\n",
    "     Dense(256, activation='relu', kernel_regularizer=regularizers.l2(0.001)),\n",
    "     Dropout(0.2),\n",
    "     Dense(10, activation='softmax')\n",
    "    ])"
   ]
  },
  {
   "cell_type": "code",
   "execution_count": 38,
   "metadata": {},
   "outputs": [],
   "source": [
    "model.compile(optimizer='adam',\n",
    "              loss='categorical_crossentropy',\n",
    "              metrics=['accuracy'])"
   ]
  },
  {
   "cell_type": "code",
   "execution_count": 39,
   "metadata": {},
   "outputs": [],
   "source": [
    "keras_model_path = \"./new_model\"\n",
    "\n"
   ]
  },
  {
   "cell_type": "code",
   "execution_count": 40,
   "metadata": {},
   "outputs": [],
   "source": [
    "model= tf.keras.models.load_model(keras_model_path)"
   ]
  },
  {
   "cell_type": "code",
   "execution_count": null,
   "metadata": {},
   "outputs": [
    {
     "name": "stdout",
     "output_type": "stream",
     "text": [
      "Epoch 1/30\n",
      "444/444 [==============================] - 159s 358ms/step - loss: 1.0001 - acc: 0.7351 - val_loss: 1.2860 - val_acc: 0.6385\n",
      "Epoch 2/30\n",
      "444/444 [==============================] - 160s 361ms/step - loss: 1.0028 - acc: 0.7356 - val_loss: 1.3468 - val_acc: 0.6152\n",
      "Epoch 3/30\n",
      "444/444 [==============================] - 168s 378ms/step - loss: 0.9819 - acc: 0.7377 - val_loss: 1.1715 - val_acc: 0.6696\n",
      "Epoch 4/30\n",
      "444/444 [==============================] - 165s 372ms/step - loss: 0.9760 - acc: 0.7436 - val_loss: 1.2314 - val_acc: 0.6516\n",
      "Epoch 5/30\n",
      "444/444 [==============================] - 164s 370ms/step - loss: 0.9788 - acc: 0.7448 - val_loss: 1.2170 - val_acc: 0.6571\n",
      "Epoch 6/30\n",
      "444/444 [==============================] - 162s 364ms/step - loss: 0.9796 - acc: 0.7461 - val_loss: 1.2720 - val_acc: 0.6426\n",
      "Epoch 7/30\n",
      "444/444 [==============================] - 160s 360ms/step - loss: 0.9740 - acc: 0.7473 - val_loss: 1.2123 - val_acc: 0.6654\n",
      "Epoch 8/30\n",
      "444/444 [==============================] - 162s 365ms/step - loss: 0.9790 - acc: 0.7495 - val_loss: 1.2190 - val_acc: 0.6667\n",
      "Epoch 9/30\n",
      "444/444 [==============================] - 167s 376ms/step - loss: 0.9692 - acc: 0.7433 - val_loss: 1.2546 - val_acc: 0.6602\n",
      "Epoch 10/30\n",
      "444/444 [==============================] - 164s 369ms/step - loss: 0.9705 - acc: 0.7490 - val_loss: 1.2049 - val_acc: 0.6663\n",
      "Epoch 11/30\n",
      "444/444 [==============================] - 164s 369ms/step - loss: 0.9589 - acc: 0.7524 - val_loss: 1.2230 - val_acc: 0.6689\n",
      "Epoch 12/30\n",
      "444/444 [==============================] - 163s 367ms/step - loss: 0.9597 - acc: 0.7503 - val_loss: 1.1833 - val_acc: 0.6720\n",
      "Epoch 13/30\n",
      "444/444 [==============================] - 162s 366ms/step - loss: 0.9590 - acc: 0.7532 - val_loss: 1.1911 - val_acc: 0.6696\n",
      "Epoch 14/30\n",
      "444/444 [==============================] - 162s 365ms/step - loss: 0.9601 - acc: 0.7514 - val_loss: 1.1632 - val_acc: 0.6876\n",
      "Epoch 15/30\n",
      "444/444 [==============================] - 162s 366ms/step - loss: 0.9666 - acc: 0.7500 - val_loss: 1.2004 - val_acc: 0.6672\n",
      "Epoch 16/30\n",
      " 47/444 [==>...........................] - ETA: 2:13 - loss: 0.9206 - acc: 0.7613"
     ]
    }
   ],
   "source": [
    "hist = model.fit_generator(train_generator, epochs=30, \n",
    "                    validation_data=test_generator)\n",
    "model.save(keras_model_path) "
   ]
  },
  {
   "cell_type": "code",
   "execution_count": 18,
   "metadata": {},
   "outputs": [
    {
     "ename": "NameError",
     "evalue": "name 'hist' is not defined",
     "output_type": "error",
     "traceback": [
      "\u001b[0;31m---------------------------------------------------------------------------\u001b[0m",
      "\u001b[0;31mNameError\u001b[0m                                 Traceback (most recent call last)",
      "\u001b[0;32m<ipython-input-18-7dd79eb9cc1f>\u001b[0m in \u001b[0;36m<module>\u001b[0;34m()\u001b[0m\n\u001b[1;32m      1\u001b[0m \u001b[0;34m\u001b[0m\u001b[0m\n\u001b[0;32m----> 2\u001b[0;31m \u001b[0mplt\u001b[0m\u001b[0;34m.\u001b[0m\u001b[0mplot\u001b[0m\u001b[0;34m(\u001b[0m\u001b[0mhist\u001b[0m\u001b[0;34m.\u001b[0m\u001b[0mhistory\u001b[0m\u001b[0;34m[\u001b[0m\u001b[0;34m'acc'\u001b[0m\u001b[0;34m]\u001b[0m\u001b[0;34m,\u001b[0m \u001b[0mlabel\u001b[0m\u001b[0;34m=\u001b[0m\u001b[0;34m'acc'\u001b[0m\u001b[0;34m)\u001b[0m\u001b[0;34m\u001b[0m\u001b[0;34m\u001b[0m\u001b[0m\n\u001b[0m\u001b[1;32m      3\u001b[0m \u001b[0mplt\u001b[0m\u001b[0;34m.\u001b[0m\u001b[0mplot\u001b[0m\u001b[0;34m(\u001b[0m\u001b[0mhist\u001b[0m\u001b[0;34m.\u001b[0m\u001b[0mhistory\u001b[0m\u001b[0;34m[\u001b[0m\u001b[0;34m'val_acc'\u001b[0m\u001b[0;34m]\u001b[0m\u001b[0;34m,\u001b[0m \u001b[0mlabel\u001b[0m \u001b[0;34m=\u001b[0m \u001b[0;34m'val_acc'\u001b[0m\u001b[0;34m)\u001b[0m\u001b[0;34m\u001b[0m\u001b[0;34m\u001b[0m\u001b[0m\n\u001b[1;32m      4\u001b[0m \u001b[0mplt\u001b[0m\u001b[0;34m.\u001b[0m\u001b[0mxlabel\u001b[0m\u001b[0;34m(\u001b[0m\u001b[0;34m'Epoch'\u001b[0m\u001b[0;34m)\u001b[0m\u001b[0;34m\u001b[0m\u001b[0;34m\u001b[0m\u001b[0m\n\u001b[1;32m      5\u001b[0m \u001b[0mplt\u001b[0m\u001b[0;34m.\u001b[0m\u001b[0mylabel\u001b[0m\u001b[0;34m(\u001b[0m\u001b[0;34m'Accuracy'\u001b[0m\u001b[0;34m)\u001b[0m\u001b[0;34m\u001b[0m\u001b[0;34m\u001b[0m\u001b[0m\n",
      "\u001b[0;31mNameError\u001b[0m: name 'hist' is not defined"
     ]
    }
   ],
   "source": [
    "\n",
    "plt.plot(hist.history['acc'], label='acc')\n",
    "plt.plot(hist.history['val_acc'], label = 'val_acc')\n",
    "plt.xlabel('Epoch')\n",
    "plt.ylabel('Accuracy')\n",
    "plt.legend(loc='lower right')\n",
    "\n"
   ]
  },
  {
   "cell_type": "code",
   "execution_count": 33,
   "metadata": {},
   "outputs": [],
   "source": [
    "model.save(keras_model_path) "
   ]
  },
  {
   "cell_type": "code",
   "execution_count": null,
   "metadata": {},
   "outputs": [],
   "source": []
  }
 ],
 "metadata": {
  "kernelspec": {
   "display_name": "Python 3",
   "language": "python",
   "name": "python3"
  },
  "language_info": {
   "codemirror_mode": {
    "name": "ipython",
    "version": 3
   },
   "file_extension": ".py",
   "mimetype": "text/x-python",
   "name": "python",
   "nbconvert_exporter": "python",
   "pygments_lexer": "ipython3",
   "version": "3.7.5"
  }
 },
 "nbformat": 4,
 "nbformat_minor": 2
}
