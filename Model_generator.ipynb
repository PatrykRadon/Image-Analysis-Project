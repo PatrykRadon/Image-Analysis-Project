{
 "cells": [
  {
   "cell_type": "code",
   "execution_count": 2,
   "metadata": {},
   "outputs": [],
   "source": [
    "from tensorflow.keras.models import Sequential\n",
    "from tensorflow.keras.layers import Dense, Conv2D, Flatten, Dropout, MaxPool2D\n",
    "from tensorflow.keras.preprocessing.image import ImageDataGenerator\n",
    "import tensorflow as tf\n",
    "import os\n",
    "import numpy as np\n",
    "import matplotlib.pyplot as plt"
   ]
  },
  {
   "cell_type": "code",
   "execution_count": 3,
   "metadata": {},
   "outputs": [],
   "source": [
    "import IPython.display as display\n",
    "from PIL import Image\n",
    "import os\n",
    "import pathlib"
   ]
  },
  {
   "cell_type": "code",
   "execution_count": 4,
   "metadata": {},
   "outputs": [],
   "source": [
    "import scipy as sp"
   ]
  },
  {
   "cell_type": "code",
   "execution_count": 5,
   "metadata": {},
   "outputs": [],
   "source": [
    "\n",
    "test_datagen = ImageDataGenerator(rescale=1./255,\n",
    "                                  rotation_range=45,\n",
    "                                  width_shift_range=.15,\n",
    "                                  height_shift_range=.15,\n",
    "                                  horizontal_flip=True,\n",
    "                                  zoom_range=0.5\n",
    "                                  )\n",
    "\n",
    "train_datagen = ImageDataGenerator(rescale=1./255)\n",
    "\n",
    "IMG_WIDTH,IMG_HEIGHT = (128,128)\n",
    "batch_size = 32"
   ]
  },
  {
   "cell_type": "code",
   "execution_count": 6,
   "metadata": {},
   "outputs": [
    {
     "name": "stdout",
     "output_type": "stream",
     "text": [
      "Found 14181 images belonging to 10 classes.\n"
     ]
    }
   ],
   "source": [
    "train_generator = train_datagen.flow_from_directory(directory='./data/animals10/train', classes=['dog','cat','elephant','sheep','spider','sqirle','cow','chicken','horse','butterfly'], batch_size=batch_size, target_size=(IMG_WIDTH,IMG_HEIGHT))"
   ]
  },
  {
   "cell_type": "code",
   "execution_count": 7,
   "metadata": {},
   "outputs": [
    {
     "name": "stdout",
     "output_type": "stream",
     "text": [
      "Found 4564 images belonging to 10 classes.\n"
     ]
    }
   ],
   "source": [
    "test_generator = train_datagen.flow_from_directory(directory='./data/animals10/valid', classes=['dog','cat','elephant','sheep','spider','sqirle','cow','chicken','horse','butterfly'], batch_size=batch_size, target_size=(IMG_WIDTH,IMG_HEIGHT))"
   ]
  },
  {
   "cell_type": "code",
   "execution_count": 8,
   "metadata": {},
   "outputs": [],
   "source": [
    "from tensorflow.keras import regularizers"
   ]
  },
  {
   "cell_type": "code",
   "execution_count": 57,
   "metadata": {},
   "outputs": [],
   "source": [
    "model = Sequential(\n",
    "    [Conv2D(50, 3, padding='same', activation='relu', input_shape=(IMG_WIDTH,IMG_HEIGHT,3)),\n",
    "     MaxPool2D(),\n",
    "     Dropout(0.2),\n",
    "     Conv2D(32, 3, padding='same', activation='relu'),\n",
    "     MaxPool2D(),\n",
    "     Dropout(0.2),\n",
    "     Conv2D(32, 3, padding='same', activation='relu'),\n",
    "     MaxPool2D(),\n",
    "     Dropout(0.2),\n",
    "     Conv2D(16, 3, padding='same', activation='relu'),\n",
    "     MaxPool2D(),\n",
    "     Dropout(0.2),\n",
    "     Flatten(),\n",
    "     Dense(256, activation='relu', kernel_regularizer=regularizers.l2(0.001)),\n",
    "     Dropout(0.2),\n",
    "     Dense(10, activation='softmax')\n",
    "    ])#new_model_1"
   ]
  },
  {
   "cell_type": "code",
   "execution_count": 44,
   "metadata": {},
   "outputs": [],
   "source": [
    "model = Sequential(\n",
    "    [Conv2D(32, 3, padding='same', activation='relu', input_shape=(IMG_WIDTH,IMG_HEIGHT,3)),\n",
    "     Dropout(0.4),\n",
    "     Conv2D(32, 3, padding='same', activation='relu', input_shape=(IMG_WIDTH,IMG_HEIGHT,3)),\n",
    "     Dropout(0.4),\n",
    "     MaxPool2D(),\n",
    "     Conv2D(64, 3, padding='same', activation='relu', input_shape=(IMG_WIDTH,IMG_HEIGHT,3)),\n",
    "     Dropout(0.4),\n",
    "     Conv2D(64, 3, padding='same', activation='relu', input_shape=(IMG_WIDTH,IMG_HEIGHT,3)),\n",
    "     Dropout(0.4),\n",
    "     MaxPool2D(),\n",
    "     Conv2D(128, 3, padding='same', activation='relu', input_shape=(IMG_WIDTH,IMG_HEIGHT,3)),\n",
    "     Dropout(0.4),\n",
    "     Conv2D(128, 3, padding='same', activation='relu', input_shape=(IMG_WIDTH,IMG_HEIGHT,3)),\n",
    "     Dropout(0.4),\n",
    "     MaxPool2D(),\n",
    "     Flatten(),\n",
    "     Dense(10, activation='softmax')\n",
    "    ])#new_model"
   ]
  },
  {
   "cell_type": "code",
   "execution_count": 25,
   "metadata": {},
   "outputs": [],
   "source": [
    "model = Sequential(\n",
    "    [Conv2D(64, 3, padding='same', activation='relu', input_shape=(IMG_WIDTH,IMG_HEIGHT,3)),\n",
    "      Dropout(0.4),\n",
    "     Conv2D(64, 3, padding='same', activation='relu', input_shape=(IMG_WIDTH,IMG_HEIGHT,3)),\n",
    "      Dropout(0.4),\n",
    "       MaxPool2D(),\n",
    "     \n",
    "     Conv2D(128, 3, padding='same', activation='relu', input_shape=(IMG_WIDTH,IMG_HEIGHT,3)),\n",
    "      Dropout(0.4),\n",
    "     Conv2D(128, 3, padding='same', activation='relu', input_shape=(IMG_WIDTH,IMG_HEIGHT,3)),\n",
    "      Dropout(0.4),\n",
    "       MaxPool2D(),\n",
    "     \n",
    "     Conv2D(256, 3, padding='same', activation='relu', input_shape=(IMG_WIDTH,IMG_HEIGHT,3)),\n",
    "      Dropout(0.4),\n",
    "     Conv2D(256, 3, padding='same', activation='relu', input_shape=(IMG_WIDTH,IMG_HEIGHT,3)),\n",
    "      Dropout(0.4),\n",
    "      Conv2D(256, 3, padding='same', activation='relu', input_shape=(IMG_WIDTH,IMG_HEIGHT,3)),\n",
    "      Dropout(0.4),\n",
    "     Conv2D(256, 3, padding='same', activation='relu', input_shape=(IMG_WIDTH,IMG_HEIGHT,3)),\n",
    "      Dropout(0.4),\n",
    "       MaxPool2D(),\n",
    "     \n",
    "     Conv2D(512, 3, padding='same', activation='relu', input_shape=(IMG_WIDTH,IMG_HEIGHT,3)),\n",
    "      Dropout(0.4),\n",
    "     Conv2D(512, 3, padding='same', activation='relu', input_shape=(IMG_WIDTH,IMG_HEIGHT,3)),\n",
    "      Dropout(0.4),\n",
    "      Conv2D(512, 3, padding='same', activation='relu', input_shape=(IMG_WIDTH,IMG_HEIGHT,3)),\n",
    "      Dropout(0.4),\n",
    "     Conv2D(512, 3, padding='same', activation='relu', input_shape=(IMG_WIDTH,IMG_HEIGHT,3)),\n",
    "      Dropout(0.4),\n",
    "       MaxPool2D(),\n",
    "     \n",
    "     Conv2D(512, 3, padding='same', activation='relu', input_shape=(IMG_WIDTH,IMG_HEIGHT,3)),\n",
    "      Dropout(0.4),\n",
    "     Conv2D(512, 3, padding='same', activation='relu', input_shape=(IMG_WIDTH,IMG_HEIGHT,3)),\n",
    "      Dropout(0.4),\n",
    "      Conv2D(512, 3, padding='same', activation='relu', input_shape=(IMG_WIDTH,IMG_HEIGHT,3)),\n",
    "      Dropout(0.4),\n",
    "     Conv2D(512, 3, padding='same', activation='relu', input_shape=(IMG_WIDTH,IMG_HEIGHT,3)),\n",
    "      Dropout(0.4),\n",
    "       MaxPool2D(),\n",
    "     \n",
    "      Flatten(),\n",
    "     Dense(4096, activation='relu', kernel_regularizer=regularizers.l2(0.0001),),\n",
    "     Dense(4096, activation='relu', kernel_regularizer=regularizers.l2(0.0001),),\n",
    "     Dense(1000, activation='relu', kernel_regularizer=regularizers.l2(0.0001),),\n",
    "     Dense(10, activation='softmax')\n",
    "    ]) #new_model_2"
   ]
  },
  {
   "cell_type": "code",
   "execution_count": 26,
   "metadata": {},
   "outputs": [],
   "source": [
    "model.compile(optimizer='adam',\n",
    "              loss='categorical_crossentropy',\n",
    "              metrics=['accuracy'])"
   ]
  },
  {
   "cell_type": "code",
   "execution_count": 23,
   "metadata": {},
   "outputs": [],
   "source": [
    "keras_model_path = \"./new_model_2\"\n",
    "\n"
   ]
  },
  {
   "cell_type": "code",
   "execution_count": 24,
   "metadata": {
    "scrolled": true
   },
   "outputs": [],
   "source": [
    "model= tf.keras.models.load_model(keras_model_path)"
   ]
  },
  {
   "cell_type": "code",
   "execution_count": null,
   "metadata": {},
   "outputs": [
    {
     "name": "stdout",
     "output_type": "stream",
     "text": [
      "Epoch 1/15\n",
      "165/444 [==========>...................] - ETA: 51:32 - loss: 10.7026 - acc: 0.1782"
     ]
    }
   ],
   "source": [
    "hist = model.fit_generator(train_generator, epochs=15, \n",
    "                    validation_data=test_generator)\n",
    "model.save(keras_model_path) "
   ]
  },
  {
   "cell_type": "code",
   "execution_count": null,
   "metadata": {},
   "outputs": [],
   "source": []
  },
  {
   "cell_type": "code",
   "execution_count": 61,
   "metadata": {},
   "outputs": [
    {
     "data": {
      "text/plain": [
       "<matplotlib.legend.Legend at 0x7f49701d5150>"
      ]
     },
     "execution_count": 61,
     "metadata": {},
     "output_type": "execute_result"
    },
    {
     "data": {
      "image/png": "[encoded data removed]",
      "text/plain": [
       "<Figure size 432x288 with 1 Axes>"
      ]
     },
     "metadata": {
      "needs_background": "light"
     },
     "output_type": "display_data"
    }
   ],
   "source": [
    "\n",
    "plt.plot(hist.history['acc'], label='acc')\n",
    "plt.plot(hist.history['val_acc'], label = 'val_acc')\n",
    "plt.xlabel('Epoch')\n",
    "plt.ylabel('Accuracy')\n",
    "plt.legend(loc='lower right')\n",
    "\n"
   ]
  },
  {
   "cell_type": "code",
   "execution_count": 62,
   "metadata": {},
   "outputs": [],
   "source": [
    "model.save(keras_model_path) "
   ]
  },
  {
   "cell_type": "code",
   "execution_count": null,
   "metadata": {},
   "outputs": [],
   "source": []
  }
 ],
 "metadata": {
  "kernelspec": {
   "display_name": "Python 3",
   "language": "python",
   "name": "python3"
  },
  "language_info": {
   "codemirror_mode": {
    "name": "ipython",
    "version": 3
   },
   "file_extension": ".py",
   "mimetype": "text/x-python",
   "name": "python",
   "nbconvert_exporter": "python",
   "pygments_lexer": "ipython3",
   "version": "3.7.5"
  }
 },
 "nbformat": 4,
 "nbformat_minor": 2
}
